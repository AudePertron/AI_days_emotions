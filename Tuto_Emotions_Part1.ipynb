{
  "nbformat": 4,
  "nbformat_minor": 0,
  "metadata": {
    "accelerator": "GPU",
    "colab": {
      "name": "Tuto_Emotions_Part1.ipynb",
      "provenance": [],
      "collapsed_sections": [],
      "include_colab_link": true
    },
    "kernelspec": {
      "display_name": "Python 3",
      "language": "python",
      "name": "python3"
    },
    "language_info": {
      "codemirror_mode": {
        "name": "ipython",
        "version": 3
      },
      "file_extension": ".py",
      "mimetype": "text/x-python",
      "name": "python",
      "nbconvert_exporter": "python",
      "pygments_lexer": "ipython3",
      "version": "3.6.12"
    }
  },
  "cells": [
    {
      "cell_type": "markdown",
      "metadata": {
        "id": "view-in-github",
        "colab_type": "text"
      },
      "source": [
        "<a href=\"https://colab.research.google.com/github/AudePertron/AI_days_emotions/blob/main/Tuto_Emotions_Part1.ipynb\" target=\"_parent\"><img src=\"https://colab.research.google.com/assets/colab-badge.svg\" alt=\"Open In Colab\"/></a>"
      ]
    },
    {
      "cell_type": "markdown",
      "metadata": {
        "id": "Id7M4s_0dV2Y"
      },
      "source": [
        "# Reconnaissance des Emotions - 1/2"
      ]
    },
    {
      "cell_type": "markdown",
      "metadata": {
        "id": "9V83wDBcdV2y"
      },
      "source": [
        "## - Exploration des données et création des Datasets, \n",
        "\n",
        "## - Entraînement du modèle d'identification des émotions"
      ]
    },
    {
      "cell_type": "markdown",
      "metadata": {
        "id": "TR9yHPlgdV24"
      },
      "source": [
        "<hr>"
      ]
    },
    {
      "cell_type": "markdown",
      "metadata": {
        "id": "lv_LfjmbdV28"
      },
      "source": [
        "- <a href='#1'>Prévisualisation des données</a>\n",
        "- <a href='#2'>Création des datasets d'apprentissage et de test</a>\n",
        "- <a href='#3'>Préparation des données</a>\n",
        "- <a href='#4'>Entrainement du modèle de reconnaissance des émotions</a>\n",
        "- <a href='#5'>Résultats</a> "
      ]
    },
    {
      "cell_type": "markdown",
      "metadata": {
        "id": "JGfmFOIhdV2-"
      },
      "source": [
        "<hr>"
      ]
    },
    {
      "cell_type": "code",
      "metadata": {
        "id": "Tl9h9r9kdV3A"
      },
      "source": [
        "#préparation des imports (bibliothèques et librairies nécéssaires à l'éxécution du code)\n",
        "import os\n",
        "import sys\n",
        "import numpy as np\n",
        "import cv2\n",
        "import pickle\n",
        "\n",
        "from glob import glob\n",
        "\n",
        "from sklearn.metrics import accuracy_score, confusion_matrix\n",
        "\n",
        "import matplotlib\n",
        "import matplotlib.pyplot as plt\n",
        "\n",
        "import tensorflow as tf\n",
        "from tensorflow.keras import layers, models, optimizers\n",
        "from keras.layers import Conv2D, experimental, Dense, MaxPooling2D, Flatten, Dropout\n",
        "from keras.models import Sequential\n",
        "from keras.utils import to_categorical"
      ],
      "execution_count": 1,
      "outputs": []
    },
    {
      "cell_type": "markdown",
      "metadata": {
        "id": "BAy4kPv3dV3G"
      },
      "source": [
        "### <a id='1'>Prévisualisation des données</a>"
      ]
    },
    {
      "cell_type": "markdown",
      "metadata": {
        "id": "0OjiARaewGXd"
      },
      "source": [
        ">Si vous souhaitez exécuter ce notebook sur Google Colab, l'exécution des cellules suivantes vous permettra de cloner directement le repository Git sur Colab, et d'y extraire le ficher .zip de la data.\n",
        "\n",
        ">Vous pouvez bien sûr choisir d'exécuter les notebooks en local sur votre ordinateur, particulièrement si vous possédez un GPU. __Dans ce cas, il est inutile d'executer les 3 cellules suivantes.__"
      ]
    },
    {
      "cell_type": "code",
      "metadata": {
        "id": "raoGPn1vuO2E"
      },
      "source": [
        "!git clone https://github.com/AudePertron/AI_days_emotions.git"
      ],
      "execution_count": null,
      "outputs": []
    },
    {
      "cell_type": "code",
      "metadata": {
        "id": "Z4xjbmDGuK_A"
      },
      "source": [
        "!unzip /content/AI_days_emotions/data/emotions.zip -d /content/AI_days_emotions/data"
      ],
      "execution_count": null,
      "outputs": []
    },
    {
      "cell_type": "code",
      "metadata": {
        "id": "z6UVFGGn0DqT"
      },
      "source": [
        "%cd AI_days_emotions/"
      ],
      "execution_count": null,
      "outputs": []
    },
    {
      "cell_type": "markdown",
      "metadata": {
        "id": "fzhSXX11eBOu"
      },
      "source": [
        "Notre dossier Data contient l'ensemble des données, séparées en données d'entraînement et données de test, elles-mêmes divisées en sous-dossiers par émotions. Chaque sous-dossier d'émotions contient des images en noir et blanc de 48*48 pixel."
      ]
    },
    {
      "cell_type": "code",
      "metadata": {
        "colab": {
          "base_uri": "https://localhost:8080/"
        },
        "id": "PKrBaQ3_dV3H",
        "outputId": "49de9508-a82e-4de4-c0c0-2d5f2d686a1e"
      },
      "source": [
        "#nous accédons aux données depuis le dossier dans lequel elles sont stockées\n",
        "tmp = os.listdir(\"./data/train\") \n",
        "\n",
        "print(\"La liste 'tmp' contient les noms de chacun des dossiers. Les voici :\")\n",
        "print(\" -\", \"\\n - \".join(tmp))\n",
        "\n",
        "#On prépare les labels (noms des émotions) en les récupérant à partir des noms de dossier.\n",
        "#On prépare d'abord un dictionnaire qui contiendra les numéros et les noms des classes \n",
        "#en fonction des noms des dossiers.\n",
        "LABELS ={} \n",
        "for clas, feeling in enumerate(tmp): # on itère sur la liste tmp pour récupérer ces labels.\n",
        "    LABELS[clas]=feeling\n",
        "\n",
        "NUM_CLASS = len(tmp) # le nombre de classes correspond au nombre de dossiers\n",
        "\n",
        "print(\"\\nIl y a donc\", NUM_CLASS, \"classes :\")\n",
        "print(LABELS)"
      ],
      "execution_count": 8,
      "outputs": [
        {
          "output_type": "stream",
          "text": [
            "La liste 'tmp' contient les noms de chacun des dossiers. Les voici :\n",
            " - angry\n",
            " - happy\n",
            " - sad\n",
            " - surprise\n",
            "\n",
            "Il y a donc 4 classes :\n",
            "{0: 'angry', 1: 'happy', 2: 'sad', 3: 'surprise'}\n"
          ],
          "name": "stdout"
        }
      ]
    },
    {
      "cell_type": "code",
      "metadata": {
        "colab": {
          "base_uri": "https://localhost:8080/"
        },
        "id": "S3eHSg27dV3N",
        "outputId": "7ff7e705-d49a-4323-82c2-6bc4ecb67fb9"
      },
      "source": [
        "#nous indiquons l'emplacement des images, et créons une liste d'entraînement et une liste de test vide\n",
        "\n",
        "trainset = []\n",
        "for i in tmp: # on itère sur tmp pour parcourir chacun des 4 dossiers\n",
        "    chemin = \"./data/train/\"+i\n",
        "    img = glob(\"%s/*.jpg\" %chemin) # la fonction glob permet de récupérer tous les fichiers d'un dossier\n",
        "    img = [os.path.abspath(x) for x in img]\n",
        "    trainset.append(img)\n",
        "\n",
        "testset = []\n",
        "for i in tmp:\n",
        "    chemin = \"./data/test/\"+i\n",
        "    img = glob(\"%s/*.jpg\" %chemin)\n",
        "    img = [os.path.abspath(x) for x in img]\n",
        "    testset.append(img)\n",
        "\n",
        "#Nous affichons le nombre d'images par catégorie :\n",
        "print(\"Nombre d'images de chaque classe dans le train set :\")\n",
        "print([(LABELS[i], len(trainset[i])) for i in range(len(trainset))])\n",
        "print(\"Et dans le test set :\")\n",
        "print([(LABELS[i], len(testset[i])) for i in range(len(testset))])"
      ],
      "execution_count": 10,
      "outputs": [
        {
          "output_type": "stream",
          "text": [
            "Nombre d'images de chaque classe dans le train set :\n",
            "[('angry', 3995), ('happy', 7215), ('sad', 4830), ('surprise', 3171)]\n",
            "Et dans le test set :\n",
            "[('angry', 958), ('happy', 1774), ('sad', 1247), ('surprise', 831)]\n"
          ],
          "name": "stdout"
        }
      ]
    },
    {
      "cell_type": "markdown",
      "metadata": {
        "id": "f9vHrBLLdV3Q"
      },
      "source": [
        "### <a id='2'>Création des datasets d'apprentissage et de test</a>"
      ]
    },
    {
      "cell_type": "markdown",
      "metadata": {
        "id": "RBojNF74gBXK"
      },
      "source": [
        "Nous créons les données d'entraînement. \n",
        "\n",
        "\n",
        "Notre objectif, plus communément appelé \"target\" et abrégé en \"y\" est le nom de l'émotion associée à chaque image, qu'on appellera \"label\". Il s'agit d'associer chaque y au X correspondant. Donc par exemple si `X[0]` correspond à une image d'une personne heureuse, `y[0]` sera égal à la variable \"happy\" (les noms de variables sont ici représentés par des chiffres, comme vu ci-dessus)\n"
      ]
    },
    {
      "cell_type": "code",
      "metadata": {
        "id": "eeWXIzkedV3S"
      },
      "source": [
        "# Nous créons la liste y_train (target sur les données d'entraînement)\n",
        "paths=[]\n",
        "y_train=[]\n",
        "\n",
        "for i in range(len(trainset)):\n",
        "    for j in range(len(trainset[i])):\n",
        "        paths.append(trainset[i][j])\n",
        "        y_train.append(i)"
      ],
      "execution_count": 11,
      "outputs": []
    },
    {
      "cell_type": "markdown",
      "metadata": {
        "id": "YZ46Isbog1wB"
      },
      "source": [
        "Les données que nous devons analyser, appelées \"features\" et abrègées en \"X\", sont les images. Chaque image est représenté par une matrice de taille 48x48 (hauteur * largeur de l'image en pixel), dont les chaque valeur peut varier entre 0 et 255 suivant la valeur du pixel en niveaux de gris (0 représentant le noir et 255 le blanc). Il y aurait trois matrices pour chacune des valeurs RGB (rouge, vert, bleu, les couleurs primaires pour la lumière) dans le cas d'images en couleurs.\n",
        "\n",
        "Pour charger ces images sous forme de matrices d'entiers entre 0 et 255, nous utilisons le module `imread` de la bibliothèque `OpenCV` (`cv2`)."
      ]
    },
    {
      "cell_type": "code",
      "metadata": {
        "id": "yensf8IZdV3c"
      },
      "source": [
        "X_train=[]\n",
        "for p in paths:\n",
        "    X_train.append(cv2.imread(p, 0))"
      ],
      "execution_count": 13,
      "outputs": []
    },
    {
      "cell_type": "markdown",
      "metadata": {
        "id": "O67rNeMUhM_Z"
      },
      "source": [
        "Préparation des données de test, de la même façon que les données d'entraînement. Ces données serviront à évaluer notre modèle, c'est à dire à vérifier que notre modèle fonctionne bien sur de nouvelles images, sur lesquelles il n'a pas été entraîné."
      ]
    },
    {
      "cell_type": "code",
      "metadata": {
        "id": "zXSPWcfMdV3d"
      },
      "source": [
        "paths2=[]\n",
        "y_test=[]\n",
        "\n",
        "for i in range(len(testset)):\n",
        "    for j in range(len(testset[i])):\n",
        "        paths2.append(testset[i][j])\n",
        "        y_test.append(i)"
      ],
      "execution_count": 14,
      "outputs": []
    },
    {
      "cell_type": "code",
      "metadata": {
        "id": "RUBMIeyMdV3f"
      },
      "source": [
        "X_test=[]\n",
        "for p in paths2:\n",
        "    X_test.append(cv2.imread(p, 0))"
      ],
      "execution_count": 15,
      "outputs": []
    },
    {
      "cell_type": "markdown",
      "metadata": {
        "id": "X5j61ar7dV3f"
      },
      "source": [
        "### <a id='3'>Préparation des données</a>"
      ]
    },
    {
      "cell_type": "markdown",
      "metadata": {
        "id": "MlXvqG6OdV3g"
      },
      "source": [
        "###### Chargement des données"
      ]
    },
    {
      "cell_type": "markdown",
      "metadata": {
        "id": "bIr-z6bbiXC5"
      },
      "source": [
        "Nous allons maintenant visualiser une image du dataset pour vérifier que tout fonctionne correctement. Nous affichons de façon arbitraire l'image numéro 42, n'hésitez pas à modifier cette variable si vous souhaitez visualiser d'autres images du dataset.\n",
        "Nous en profitons pour afficher la dimension de l'image, comme mentionné précédemment, elle fait 48*48 pixel. La longueur de X_train indique le nombre d'images contenu dans le dataset."
      ]
    },
    {
      "cell_type": "code",
      "metadata": {
        "id": "zH1ocqKndV3i"
      },
      "source": [
        "plt.imshow(X_train[42], cmap=\"gray\")\n",
        "plt.axis(\"off\")\n",
        "print(f\"Il y a {len(X_train)} images de {X_train[42].shape} pixels dans le dataset.\\\n",
        " \\nVoici par exemple l'image n°42 :\")"
      ],
      "execution_count": null,
      "outputs": []
    },
    {
      "cell_type": "markdown",
      "metadata": {
        "id": "MP6QF4eBdV3j"
      },
      "source": [
        "###### Mélange des données"
      ]
    },
    {
      "cell_type": "markdown",
      "metadata": {
        "id": "GX3-ud7wjc51"
      },
      "source": [
        "Nous allons maintenant mélanger les données (comme si l'on mélangeait des cartes avant une partie) car elles sont pour l'instant classées dans l'ordre des émotions."
      ]
    },
    {
      "cell_type": "code",
      "metadata": {
        "id": "lSn6IgUPdV3n"
      },
      "source": [
        "# pour l'entraînement\n",
        "# on crée un vecteur de nombres de allant de 0 à 1921 triés aléatoirement \n",
        "index = np.random.permutation([i for i in range(len(y_train))]) \n",
        "# on classe X_train et y_train suivant cet ordre aléatoire.\n",
        "X_train = np.asarray(X_train)[index] \n",
        "y_train = np.asarray(y_train)[index]\n",
        "print(X_train.shape)\n",
        "print(y_train.shape)"
      ],
      "execution_count": null,
      "outputs": []
    },
    {
      "cell_type": "code",
      "metadata": {
        "id": "BQn3i5ridV3u"
      },
      "source": [
        "# pour les tests\n",
        "index2 = np.random.permutation([i for i in range(len(y_test))])\n",
        "\n",
        "X_test = np.asarray(X_test)[index2]\n",
        "y_test = np.asarray(y_test)[index2]\n",
        "print(X_test.shape)\n",
        "print(y_test.shape)"
      ],
      "execution_count": null,
      "outputs": []
    },
    {
      "cell_type": "markdown",
      "metadata": {
        "id": "3OOg_V3C6qTL"
      },
      "source": [
        "Visualisons maintenant quelques-une de ces images, par exemple les 15 premières, en affichant le label, afin de vérifier notre dataset avant de commencer l'entraînement."
      ]
    },
    {
      "cell_type": "code",
      "metadata": {
        "id": "w38patmEdV3v"
      },
      "source": [
        "# visualisation\n",
        "plt.figure(figsize=(15,9))\n",
        "for i in range(15):\n",
        "    plt.subplot(3,5,i+1)\n",
        "    plt.imshow(np.uint8(X_train[i]), cmap='gray')\n",
        "    plt.title(LABELS[y_train[i]])\n",
        "    plt.axis('off')\n",
        "plt.show()"
      ],
      "execution_count": null,
      "outputs": []
    },
    {
      "cell_type": "markdown",
      "metadata": {
        "id": "On2wTgRgdV3w"
      },
      "source": [
        "###### Prétraitement en vue de l'entrainement avec un CNN Séquentiel "
      ]
    },
    {
      "cell_type": "markdown",
      "metadata": {
        "id": "zG16bqacjz62"
      },
      "source": [
        "Il s'agit de transformer les données dans le format attendu par l'algorithme. \n",
        "\n",
        "Il faut d'abord normaliser les données, c'est à dire transformer toutes les valeurs de pixels afin qu'elles soient comprises entre 0 et 1. Comme la valeur maximale d'un pixel est de 255, il suffit de diviser les valeurs par ce nombre. \n",
        "\n",
        "Puis nous donnons la \"forme\" attendue à notre matrice. Nous précisons de canaux de nos images : \"1\" pour une image en noir et blanc (\"3\", correspondant aux canaux rouge, vert,  bleu, pour une image en couleur)."
      ]
    },
    {
      "cell_type": "code",
      "metadata": {
        "id": "NeH9f-kUdV3w"
      },
      "source": [
        "# standardisation, redimensionnement des features\n",
        "X_train = X_train.astype('float') / 255\n",
        "X_test = X_test.astype('float') / 255\n",
        "X_train = X_train.reshape(len(X_train),48,48,1)\n",
        "X_test = X_test.reshape(len(X_test),48,48,1)"
      ],
      "execution_count": 31,
      "outputs": []
    },
    {
      "cell_type": "markdown",
      "metadata": {
        "id": "ltmKEsdhknCi"
      },
      "source": [
        "Nous encodons également nos valeurs-cibles (targets) y. Plutôt qu'avoir des valeurs entre 0 et 4 correspondant à un numéro arbitraire, nous le transformons en une liste de 0 et de 1, le 1 correspondant à l'émotion représentée.\n",
        "\n",
        "Par exemple, dans le cas de la joie, qui était auparavant égale à 3, nous aurons :\n",
        "- avant : `y=1`\n",
        "- après : `Y=[0,1,0,0]`\n",
        "\n",
        "ou pour la tristesse:\n",
        "- avant : `y=3`\n",
        "- après : `Y=[0,0,1,0]`\n",
        "et ainsi de suite.\n",
        "\n",
        "Cela permet d'éviter des biais car l'algorihtme pourrait accorder une plus grande importance à une émotion dont la valeur est plus élevée (considérer qu'une émotion avec pour valeur 4 est plus importante qu'une émotion avec une valeur 0)."
      ]
    },
    {
      "cell_type": "code",
      "metadata": {
        "id": "FfW3tAl1dV3x"
      },
      "source": [
        "# catégorisation des target\n",
        "y_test.reshape(len(y_test),1)\n",
        "y_train.reshape(len(y_train),1)\n",
        "Y_train = to_categorical(y_train, num_classes=NUM_CLASS).astype(int)\n",
        "Y_test = to_categorical(y_test, num_classes=NUM_CLASS).astype(int)"
      ],
      "execution_count": 32,
      "outputs": []
    },
    {
      "cell_type": "code",
      "metadata": {
        "id": "FthUptd0dV3z"
      },
      "source": [
        "# vérificationpour un élément au hasard du set d'entrainement\n",
        "print(Y_train[42], y_train[42], LABELS[y_train[42]]) "
      ],
      "execution_count": null,
      "outputs": []
    },
    {
      "cell_type": "code",
      "metadata": {
        "id": "lhotObL0dV30"
      },
      "source": [
        "# vérificationpour un élément au hasard du set de test\n",
        "print(Y_test[42], y_test[42], LABELS[y_test[42]]) #test"
      ],
      "execution_count": null,
      "outputs": []
    },
    {
      "cell_type": "markdown",
      "metadata": {
        "id": "pzVUiTo9dV33"
      },
      "source": [
        "### <a id='4'>Entrainement du modèle de reconnaissance des émotions</a>"
      ]
    },
    {
      "cell_type": "markdown",
      "metadata": {
        "id": "8sB17LhtdV37"
      },
      "source": [
        "###### Création du modèle séquentiel"
      ]
    },
    {
      "cell_type": "markdown",
      "metadata": {
        "id": "Qr5d_nCBdV38"
      },
      "source": [
        "Nous allons maintenant appliquer un réseau de neurones convolutif sur nos données. Le temps d'entraînement peut être long, aussi, __pour gagner du temps, nous vous proposons de télécharger notre modèle préentraîné par la suite__, mais à nouveau, si en vous avez le temps, vous êtes libres d'éxécuter le modèle tel quel, voir même de jouer avec les paramètres pour le modifier !\n",
        "\n",
        "\n",
        "Ce modèle est composé de 15 couches de neurones. En modifiant ses paramètres vous pourriez obtenir des résultats très différents (peut-être meilleurs que les nôtres !)."
      ]
    },
    {
      "cell_type": "code",
      "metadata": {
        "id": "BcNTtTZxdV3-"
      },
      "source": [
        "### nous avons construit le modèle suivant, c'est celui qui sera fourni pour la suite de l'exercice\n",
        "### Libre à vous de le modifier et de créer votre propre modèle !\n",
        "\n",
        "modelX = models.Sequential()\n",
        "\n",
        "modelX.add(Conv2D(64, 7, padding=\"same\", activation='relu', input_shape=(48,48,1)))\n",
        "modelX.add(MaxPooling2D(2))\n",
        "modelX.add(Dropout(0.5))\n",
        "modelX.add(Conv2D(64, 3, padding=\"same\", activation='relu'))\n",
        "modelX.add(MaxPooling2D(2))\n",
        "modelX.add(Dropout(0.5))\n",
        "modelX.add(Conv2D(128, 3, padding=\"same\", activation='relu'))\n",
        "modelX.add(MaxPooling2D(2))\n",
        "modelX.add(Dropout(0.5))\n",
        "modelX.add(Flatten())\n",
        "modelX.add(Dense(64, activation=\"relu\"))\n",
        "modelX.add(Dropout(0.25))\n",
        "modelX.add(Dense(32, activation=\"relu\"))\n",
        "modelX.add(Dropout(0.25))\n",
        "modelX.add(Dense(NUM_CLASS, activation='softmax'))"
      ],
      "execution_count": 27,
      "outputs": []
    },
    {
      "cell_type": "code",
      "metadata": {
        "id": "qfv7rY8D98D9"
      },
      "source": [
        "modelX.summary()"
      ],
      "execution_count": null,
      "outputs": []
    },
    {
      "cell_type": "code",
      "metadata": {
        "id": "EYYiXmrIdV3-"
      },
      "source": [
        "# compilation pour un premier entraînement avec l'optimizer Adamax\n",
        "modelX.compile(optimizer=optimizers.Adamax(learning_rate=0.001), loss='categorical_crossentropy', metrics=['accuracy'])"
      ],
      "execution_count": 35,
      "outputs": []
    },
    {
      "cell_type": "code",
      "metadata": {
        "colab": {
          "base_uri": "https://localhost:8080/"
        },
        "id": "VPW2HbeodV3_",
        "outputId": "26a602de-c83f-4470-dcc1-0d1586edd6a8"
      },
      "source": [
        "### décommentez la ligne suivante si vous voulez entraîner votre propre modèle\n",
        "\n",
        "#history = modelX.fit(X_train, Y_train, epochs=40, batch_size=5, validation_split=0.2)"
      ],
      "execution_count": 36,
      "outputs": [
        {
          "output_type": "stream",
          "text": [
            "Epoch 1/40\n",
            "3074/3074 [==============================] - 47s 5ms/step - loss: 1.3556 - accuracy: 0.3626 - val_loss: 1.3030 - val_accuracy: 0.3698\n",
            "Epoch 2/40\n",
            "3074/3074 [==============================] - 14s 4ms/step - loss: 1.2595 - accuracy: 0.4189 - val_loss: 1.1726 - val_accuracy: 0.4934\n",
            "Epoch 3/40\n",
            "3074/3074 [==============================] - 14s 4ms/step - loss: 1.1813 - accuracy: 0.4821 - val_loss: 1.1310 - val_accuracy: 0.5142\n",
            "Epoch 4/40\n",
            "3074/3074 [==============================] - 14s 4ms/step - loss: 1.1328 - accuracy: 0.5094 - val_loss: 1.0795 - val_accuracy: 0.5381\n",
            "Epoch 5/40\n",
            "3074/3074 [==============================] - 13s 4ms/step - loss: 1.0921 - accuracy: 0.5296 - val_loss: 1.0305 - val_accuracy: 0.5527\n",
            "Epoch 6/40\n",
            "3074/3074 [==============================] - 13s 4ms/step - loss: 1.0741 - accuracy: 0.5387 - val_loss: 1.0065 - val_accuracy: 0.5673\n",
            "Epoch 7/40\n",
            "3074/3074 [==============================] - 14s 4ms/step - loss: 1.0459 - accuracy: 0.5549 - val_loss: 1.0214 - val_accuracy: 0.5605\n",
            "Epoch 8/40\n",
            "3074/3074 [==============================] - 14s 4ms/step - loss: 1.0138 - accuracy: 0.5712 - val_loss: 0.9674 - val_accuracy: 0.6003\n",
            "Epoch 9/40\n",
            "3074/3074 [==============================] - 13s 4ms/step - loss: 1.0122 - accuracy: 0.5698 - val_loss: 0.9660 - val_accuracy: 0.5959\n",
            "Epoch 10/40\n",
            "3074/3074 [==============================] - 13s 4ms/step - loss: 0.9998 - accuracy: 0.5736 - val_loss: 0.9393 - val_accuracy: 0.6216\n",
            "Epoch 11/40\n",
            "3074/3074 [==============================] - 14s 4ms/step - loss: 0.9758 - accuracy: 0.5869 - val_loss: 0.9360 - val_accuracy: 0.5985\n",
            "Epoch 12/40\n",
            "3074/3074 [==============================] - 14s 4ms/step - loss: 0.9639 - accuracy: 0.5895 - val_loss: 0.9046 - val_accuracy: 0.6167\n",
            "Epoch 13/40\n",
            "3074/3074 [==============================] - 14s 4ms/step - loss: 0.9415 - accuracy: 0.5991 - val_loss: 0.9030 - val_accuracy: 0.6292\n",
            "Epoch 14/40\n",
            "3074/3074 [==============================] - 13s 4ms/step - loss: 0.9194 - accuracy: 0.6142 - val_loss: 0.8812 - val_accuracy: 0.6347\n",
            "Epoch 15/40\n",
            "3074/3074 [==============================] - 13s 4ms/step - loss: 0.9130 - accuracy: 0.6191 - val_loss: 0.8496 - val_accuracy: 0.6516\n",
            "Epoch 16/40\n",
            "3074/3074 [==============================] - 14s 4ms/step - loss: 0.8935 - accuracy: 0.6294 - val_loss: 0.8608 - val_accuracy: 0.6508\n",
            "Epoch 17/40\n",
            "3074/3074 [==============================] - 13s 4ms/step - loss: 0.8959 - accuracy: 0.6251 - val_loss: 0.8427 - val_accuracy: 0.6534\n",
            "Epoch 18/40\n",
            "3074/3074 [==============================] - 13s 4ms/step - loss: 0.8818 - accuracy: 0.6315 - val_loss: 0.8478 - val_accuracy: 0.6641\n",
            "Epoch 19/40\n",
            "3074/3074 [==============================] - 13s 4ms/step - loss: 0.8613 - accuracy: 0.6409 - val_loss: 0.8225 - val_accuracy: 0.6635\n",
            "Epoch 20/40\n",
            "3074/3074 [==============================] - 13s 4ms/step - loss: 0.8683 - accuracy: 0.6416 - val_loss: 0.8087 - val_accuracy: 0.6703\n",
            "Epoch 21/40\n",
            "3074/3074 [==============================] - 13s 4ms/step - loss: 0.8450 - accuracy: 0.6529 - val_loss: 0.8226 - val_accuracy: 0.6599\n",
            "Epoch 22/40\n",
            "3074/3074 [==============================] - 13s 4ms/step - loss: 0.8412 - accuracy: 0.6484 - val_loss: 0.7986 - val_accuracy: 0.6779\n",
            "Epoch 23/40\n",
            "3074/3074 [==============================] - 13s 4ms/step - loss: 0.8400 - accuracy: 0.6568 - val_loss: 0.7925 - val_accuracy: 0.6763\n",
            "Epoch 24/40\n",
            "3074/3074 [==============================] - 13s 4ms/step - loss: 0.8287 - accuracy: 0.6618 - val_loss: 0.7860 - val_accuracy: 0.6838\n",
            "Epoch 25/40\n",
            "3074/3074 [==============================] - 13s 4ms/step - loss: 0.8263 - accuracy: 0.6631 - val_loss: 0.7914 - val_accuracy: 0.6771\n",
            "Epoch 26/40\n",
            "3074/3074 [==============================] - 13s 4ms/step - loss: 0.8099 - accuracy: 0.6707 - val_loss: 0.7708 - val_accuracy: 0.6885\n",
            "Epoch 27/40\n",
            "3074/3074 [==============================] - 13s 4ms/step - loss: 0.7995 - accuracy: 0.6767 - val_loss: 0.7790 - val_accuracy: 0.6851\n",
            "Epoch 28/40\n",
            "3074/3074 [==============================] - 13s 4ms/step - loss: 0.8006 - accuracy: 0.6746 - val_loss: 0.7709 - val_accuracy: 0.6901\n",
            "Epoch 29/40\n",
            "3074/3074 [==============================] - 13s 4ms/step - loss: 0.7956 - accuracy: 0.6753 - val_loss: 0.7661 - val_accuracy: 0.6896\n",
            "Epoch 30/40\n",
            "3074/3074 [==============================] - 13s 4ms/step - loss: 0.7967 - accuracy: 0.6740 - val_loss: 0.7450 - val_accuracy: 0.6966\n",
            "Epoch 31/40\n",
            "3074/3074 [==============================] - 13s 4ms/step - loss: 0.7918 - accuracy: 0.6842 - val_loss: 0.7490 - val_accuracy: 0.7047\n",
            "Epoch 32/40\n",
            "3074/3074 [==============================] - 13s 4ms/step - loss: 0.7681 - accuracy: 0.6939 - val_loss: 0.7453 - val_accuracy: 0.6982\n",
            "Epoch 33/40\n",
            "3074/3074 [==============================] - 13s 4ms/step - loss: 0.7632 - accuracy: 0.6933 - val_loss: 0.7561 - val_accuracy: 0.6935\n",
            "Epoch 34/40\n",
            "3074/3074 [==============================] - 13s 4ms/step - loss: 0.7650 - accuracy: 0.6939 - val_loss: 0.7399 - val_accuracy: 0.7018\n",
            "Epoch 35/40\n",
            "3074/3074 [==============================] - 13s 4ms/step - loss: 0.7672 - accuracy: 0.6961 - val_loss: 0.7408 - val_accuracy: 0.6984\n",
            "Epoch 36/40\n",
            "3074/3074 [==============================] - 13s 4ms/step - loss: 0.7597 - accuracy: 0.6936 - val_loss: 0.7350 - val_accuracy: 0.7018\n",
            "Epoch 37/40\n",
            "3074/3074 [==============================] - 13s 4ms/step - loss: 0.7466 - accuracy: 0.6958 - val_loss: 0.7370 - val_accuracy: 0.7015\n",
            "Epoch 38/40\n",
            "3074/3074 [==============================] - 13s 4ms/step - loss: 0.7487 - accuracy: 0.7019 - val_loss: 0.7400 - val_accuracy: 0.7015\n",
            "Epoch 39/40\n",
            "3074/3074 [==============================] - 14s 4ms/step - loss: 0.7444 - accuracy: 0.7042 - val_loss: 0.7511 - val_accuracy: 0.6979\n",
            "Epoch 40/40\n",
            "3074/3074 [==============================] - 13s 4ms/step - loss: 0.7392 - accuracy: 0.7057 - val_loss: 0.7291 - val_accuracy: 0.7070\n"
          ],
          "name": "stdout"
        }
      ]
    },
    {
      "cell_type": "markdown",
      "metadata": {
        "id": "oZsI4YTLdV3_"
      },
      "source": [
        "Au bout de nos 40 epochs, bien que le modèle semble converger, l'accuracy ne s'est pas tout à fait stabilisée. Il semble que l'on puisse améliorer un peu ce résultat. Relancons l'entraînement pour 10 epoch, en afinant les hyperparametres de l'optimizer Adamax.\n",
        "\n"
      ]
    },
    {
      "cell_type": "code",
      "metadata": {
        "id": "d2yb8BQc9NX4"
      },
      "source": [
        "# second entrainement en affinant les parametres \n",
        "modelX.compile(optimizer=optimizers.Adamax(learning_rate=0.0001, beta_1=0.98, beta_2=0.98), loss='categorical_crossentropy', metrics=['accuracy'])"
      ],
      "execution_count": null,
      "outputs": []
    },
    {
      "cell_type": "code",
      "metadata": {
        "colab": {
          "base_uri": "https://localhost:8080/"
        },
        "id": "0VkGC7GtXtUc",
        "outputId": "7033a2dd-1dce-472e-c8f4-1c41b27d613d"
      },
      "source": [
        "### décommentez la ligne suivante si vous voulez entraîner votre propre modèle\n",
        "\n",
        "#history = modelX.fit(X_train, Y_train, epochs=10, batch_size=5, validation_split=0.2)"
      ],
      "execution_count": null,
      "outputs": [
        {
          "output_type": "stream",
          "text": [
            "Epoch 1/10\n",
            "3074/3074 [==============================] - 13s 4ms/step - loss: 0.7413 - accuracy: 0.7063 - val_loss: 0.7294 - val_accuracy: 0.7158\n",
            "Epoch 2/10\n",
            "3074/3074 [==============================] - 13s 4ms/step - loss: 0.7210 - accuracy: 0.7111 - val_loss: 0.7182 - val_accuracy: 0.7184\n",
            "Epoch 3/10\n",
            "3074/3074 [==============================] - 13s 4ms/step - loss: 0.7377 - accuracy: 0.7067 - val_loss: 0.7215 - val_accuracy: 0.7234\n",
            "Epoch 4/10\n",
            "3074/3074 [==============================] - 13s 4ms/step - loss: 0.7168 - accuracy: 0.7058 - val_loss: 0.7186 - val_accuracy: 0.7200\n",
            "Epoch 5/10\n",
            "3074/3074 [==============================] - 12s 4ms/step - loss: 0.7401 - accuracy: 0.6998 - val_loss: 0.7211 - val_accuracy: 0.7252\n",
            "Epoch 6/10\n",
            "3074/3074 [==============================] - 13s 4ms/step - loss: 0.7284 - accuracy: 0.7073 - val_loss: 0.7246 - val_accuracy: 0.7192\n",
            "Epoch 7/10\n",
            "3074/3074 [==============================] - 13s 4ms/step - loss: 0.7163 - accuracy: 0.7169 - val_loss: 0.7223 - val_accuracy: 0.7177\n",
            "Epoch 8/10\n",
            "3074/3074 [==============================] - 13s 4ms/step - loss: 0.7292 - accuracy: 0.7121 - val_loss: 0.7245 - val_accuracy: 0.7184\n",
            "Epoch 9/10\n",
            "3074/3074 [==============================] - 13s 4ms/step - loss: 0.7155 - accuracy: 0.7136 - val_loss: 0.7239 - val_accuracy: 0.7203\n",
            "Epoch 10/10\n",
            "3074/3074 [==============================] - 13s 4ms/step - loss: 0.7219 - accuracy: 0.7105 - val_loss: 0.7177 - val_accuracy: 0.7250\n"
          ],
          "name": "stdout"
        }
      ]
    },
    {
      "cell_type": "code",
      "metadata": {
        "colab": {
          "base_uri": "https://localhost:8080/"
        },
        "id": "QhlBA7DuJuY1",
        "outputId": "9fafb886-9db7-4b7c-bffb-af7c0ba08c9f"
      },
      "source": [
        "### décommentez la ligne suivante si vous souhaitez enregistrer votre modèle personnalisé.\n",
        "\n",
        "#modelX.save('My_model')"
      ],
      "execution_count": null,
      "outputs": [
        {
          "output_type": "stream",
          "text": [
            "INFO:tensorflow:Assets written to: modelX/assets\n"
          ],
          "name": "stdout"
        }
      ]
    },
    {
      "cell_type": "markdown",
      "metadata": {
        "id": "UA7Sw0GNnojJ"
      },
      "source": [
        "Grâce au deuxième entrainement, nous parvenons à un score stable autour de  72%. Dans l'absolu, ce score peut ne pas paraître excellent, mais par rapport aux données utilisées c'est un score honorable.\n",
        "\n",
        "Vous pouvez essayer de relancer ce modèle (nous vous conseillons de le faire sur Colab ou avec un GPU) en jouant sur l'optimizer et ses hyperparamètre, ou même en modifiant le nombre de couches et de neurones par couches dans le modèle, vous obtiendrez peut-être un meilleur score que nous !"
      ]
    },
    {
      "cell_type": "markdown",
      "metadata": {
        "id": "85cZbrktdV4D"
      },
      "source": [
        "###### Validation sur la base de données de test"
      ]
    },
    {
      "cell_type": "markdown",
      "metadata": {
        "id": "rshljthloKrX"
      },
      "source": [
        "Nous allons mainteant évaluer nos résulats grâce à nos données de test."
      ]
    },
    {
      "cell_type": "code",
      "metadata": {
        "id": "igy5-FSWdV4E"
      },
      "source": [
        "modelX = models.load_model('modelX') \n",
        "#ici, nous vous proposons de charger notre modèle, mais vous pouvez faire les modifications nécessaires pour \n",
        "# utiliser le vôtre."
      ],
      "execution_count": 37,
      "outputs": []
    },
    {
      "cell_type": "code",
      "metadata": {
        "colab": {
          "base_uri": "https://localhost:8080/"
        },
        "id": "TiGbt9WrdV4F",
        "outputId": "d9757185-d8d4-4e90-b839-e49f93f9534a"
      },
      "source": [
        "len(X_test)\n",
        "X_test.shape"
      ],
      "execution_count": 38,
      "outputs": [
        {
          "output_type": "execute_result",
          "data": {
            "text/plain": [
              "(4810, 48, 48, 1)"
            ]
          },
          "metadata": {
            "tags": []
          },
          "execution_count": 38
        }
      ]
    },
    {
      "cell_type": "markdown",
      "metadata": {
        "id": "7HO9XCS3pUSR"
      },
      "source": [
        "Nous examiner les prédictions de notre algorithme sur les données de test, et les comparer à leur valeur réelle."
      ]
    },
    {
      "cell_type": "code",
      "metadata": {
        "id": "9BGTSXLNdV4N"
      },
      "source": [
        "Y_pred = modelX.predict(X_test) # on demande à notre modèle de réaliser les prédictions sur la base de test."
      ],
      "execution_count": 41,
      "outputs": []
    },
    {
      "cell_type": "code",
      "metadata": {
        "id": "H-VGG4gWdV4O"
      },
      "source": [
        "y_pred=[]\n",
        "for y in Y_pred:\n",
        "    y_pred.append(np.argmax(y))\n",
        "# on décode les prédictions, afind e passer du format Y=[0,0,1,0] au format y=2, à l'inverse ce qu'on a afit plus haut. "
      ],
      "execution_count": 42,
      "outputs": []
    },
    {
      "cell_type": "markdown",
      "metadata": {
        "id": "NbYMS57UpqwT"
      },
      "source": [
        "L'utilisation d'une matrice de confusion matrice de confusion nous montrera où l'algorithme se \"trompe\". \n",
        "\n",
        "Dans l'idéal, toutes les valeurs devraient être sur la diagonale haut-gauche / bas-droite. Les valeurs qui se situent sur cette diagonale sont les images correctement identifiées. \n",
        "Les autres sont mal identifiées : les valeurs réelles se situent sur l'axe des ordonnées, et les valeurs prédites sur les abscisses."
      ]
    },
    {
      "cell_type": "code",
      "metadata": {
        "id": "WD5dN92YdV4P",
        "scrolled": true
      },
      "source": [
        "cf_matrix = confusion_matrix(y_test, y_pred) \n",
        "# le module metrics.confusion_matrix est disponible dnas la bibliothèque scikit-learn"
      ],
      "execution_count": 43,
      "outputs": []
    },
    {
      "cell_type": "code",
      "metadata": {
        "colab": {
          "base_uri": "https://localhost:8080/",
          "height": 389
        },
        "id": "YinsTYcKQbLs",
        "outputId": "645abedc-ae52-42ba-96dc-9e0340600c69"
      },
      "source": [
        "plt.figure(figsize=(6,6))\n",
        "plt.imshow(cf_matrix, cmap=\"Purples\")\n",
        "for (i, j), z in np.ndenumerate(cf_matrix):\n",
        "    plt.text(j, i, z, ha='center', va='center', bbox=dict(boxstyle='round', facecolor='white', edgecolor='0.3'))\n",
        "plt.xlabel(\"valeurs prédites\")\n",
        "plt.xticks(ticks =[i for i in range(4)], labels=[LABELS[i] for i in range(4)])\n",
        "plt.ylabel(\"valeurs réelles\")\n",
        "plt.yticks(ticks =[i for i in range(4)], labels=[LABELS[i] for i in range(4)])\n",
        "plt.show()"
      ],
      "execution_count": 52,
      "outputs": [
        {
          "output_type": "display_data",
          "data": {
            "image/png": "[encoded data removed]",
            "text/plain": [
              "<Figure size 432x432 with 1 Axes>"
            ]
          },
          "metadata": {
            "tags": [],
            "needs_background": "light"
          }
        }
      ]
    },
    {
      "cell_type": "markdown",
      "metadata": {
        "id": "Ru3V3rZbdV4R"
      },
      "source": [
        "### <a id='5'>Résultats</a>\n",
        "\n",
        "La matrice de confusion nous montre  modèle semble a avoir plus de mal à reconnaître certains sentiments que d'autres. Comme on le voit sur la matrice de confusion que vous avez obtenue ci-dessus.\n",
        "\n",
        "Si l'on regarde les images de la colère, par exemple : un peu plus de la moitié d'entre elles ont dû être correctement identifiées, mais presque toutes les autres ont probablement été prises pour des expressions de la tristesse. Il y a d'ailleurs aussi beaucoup de mauvaises interprétations du sentiment de tristesse. \n",
        "\n",
        "Pas terrible... Qu'en pensez-vous ? \n",
        "Maintenant, allez regarder les images du dataset : à l'oeil nu, auriez-vous pu faire mieux ? ;)"
      ]
    },
    {
      "cell_type": "code",
      "metadata": {
        "id": "8UKM3iy_1qJz"
      },
      "source": [
        ""
      ],
      "execution_count": 48,
      "outputs": []
    }
  ]
}